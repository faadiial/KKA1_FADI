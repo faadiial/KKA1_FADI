{
  "nbformat": 4,
  "nbformat_minor": 0,
  "metadata": {
    "colab": {
      "provenance": []
    },
    "kernelspec": {
      "name": "python3",
      "display_name": "Python 3"
    },
    "language_info": {
      "name": "python"
    }
  },
  "cells": [
    {
      "cell_type": "code",
      "execution_count": null,
      "metadata": {
        "id": "1SKTgumyQb1k"
      },
      "outputs": [],
      "source": [
        "# Praktikum Dasar Python\n",
        "Tujuan: Melatih sintaks dasar Python (variabel, list/dict, fungsi, perulangan, percabangan).\n",
        "Jalankan setiap code cell satu per satu."
      ]
    },
    {
      "cell_type": "code",
      "source": [
        "# 1. Variabel dan Tipe Data\n",
        "print(\"=== 1. Variabel dan Tipe Data ===\")\n",
        "x = 10              # int\n",
        "y = 3.14            # float\n",
        "z = \"Halo Python\"   # str\n",
        "my_list = [1, 2, 3] # list\n",
        "\n",
        "print(\"x =\", x, \"->\", type(x))\n",
        "print(\"y =\", y, \"->\", type(y))\n",
        "print(\"z =\", z, \"->\", type(z))\n",
        "print(\"my_list =\", my_list, \"->\", type(my_list))\n"
      ],
      "metadata": {
        "colab": {
          "base_uri": "https://localhost:8080/"
        },
        "id": "uyvc3ouORvYV",
        "outputId": "2201f130-1b26-439a-9156-8ff29b39662c"
      },
      "execution_count": 1,
      "outputs": [
        {
          "output_type": "stream",
          "name": "stdout",
          "text": [
            "=== 1. Variabel dan Tipe Data ===\n",
            "x = 10 -> <class 'int'>\n",
            "y = 3.14 -> <class 'float'>\n",
            "z = Halo Python -> <class 'str'>\n",
            "my_list = [1, 2, 3] -> <class 'list'>\n"
          ]
        }
      ]
    },
    {
      "cell_type": "code",
      "source": [
        "# 2. List dan Manipulasi\n",
        "print(\"\\n=== 2. List dan Manipulasi ===\")\n",
        "belanja = [\"beras\", \"minyak\", \"telur\"]\n",
        "print(\"List awal:\", belanja)\n",
        "\n",
        "# tambahkan item menggunakan method append()\n",
        "belanja.append(\"gula\")\n",
        "belanja.append(\"kopi\")\n",
        "print(\"List setelah ditambah:\", belanja)\n",
        "\n",
        "# tampilkan semua item dengan perulangan\n",
        "print(\"\\nDaftar belanja:\")\n",
        "for i, item in enumerate(belanja, start=1):\n",
        "    print(f\"{i}. {item}\")"
      ],
      "metadata": {
        "colab": {
          "base_uri": "https://localhost:8080/"
        },
        "id": "33rWXvr-R2Jv",
        "outputId": "eaa1b663-85ac-4807-c975-e2091f80e2de"
      },
      "execution_count": 2,
      "outputs": [
        {
          "output_type": "stream",
          "name": "stdout",
          "text": [
            "\n",
            "=== 2. List dan Manipulasi ===\n",
            "List awal: ['beras', 'minyak', 'telur']\n",
            "List setelah ditambah: ['beras', 'minyak', 'telur', 'gula', 'kopi']\n",
            "\n",
            "Daftar belanja:\n",
            "1. beras\n",
            "2. minyak\n",
            "3. telur\n",
            "4. gula\n",
            "5. kopi\n"
          ]
        }
      ]
    },
    {
      "cell_type": "code",
      "source": [
        "# 3. Dictionary\n",
        "print(\"\\n=== 3. Dictionary ===\")\n",
        "harga_belanja = {\n",
        "    \"beras\": 12000,\n",
        "    \"minyak\": 17000,\n",
        "    \"telur\": 24000,\n",
        "    \"gula\": 15000,\n",
        "    \"kopi\": 20000\n",
        "}\n",
        "print(\"Harga belanjaan (dictionary):\")\n",
        "for k, v in harga_belanja.items():\n",
        "    print(\"-\", k, \":\", v)\n",
        "\n",
        "# total harga dari semua item di dictionary\n",
        "total_semua = sum(harga_belanja.values())\n",
        "print(\"\\nTotal semua harga (raw):\", total_semua)\n",
        "# format ribuan dengan titik (Indonesia)\n",
        "print(\"Total semua harga (format): Rp\", format(total_semua, \",\").replace(\",\", \".\"))\n",
        "\n",
        "# contoh: hitung total untuk list belanja saat ini\n",
        "total_dari_list = sum(harga_belanja[item] for item in belanja)\n",
        "print(\"Total untuk list 'belanja' saat ini:\", format(total_dari_list, \",\").replace(\",\", \".\"))\n"
      ],
      "metadata": {
        "colab": {
          "base_uri": "https://localhost:8080/"
        },
        "id": "wi1u77WrR4H7",
        "outputId": "6ddd1d81-9fd2-41f7-9dd8-0d0993dcbddd"
      },
      "execution_count": 3,
      "outputs": [
        {
          "output_type": "stream",
          "name": "stdout",
          "text": [
            "\n",
            "=== 3. Dictionary ===\n",
            "Harga belanjaan (dictionary):\n",
            "- beras : 12000\n",
            "- minyak : 17000\n",
            "- telur : 24000\n",
            "- gula : 15000\n",
            "- kopi : 20000\n",
            "\n",
            "Total semua harga (raw): 88000\n",
            "Total semua harga (format): Rp 88.000\n",
            "Total untuk list 'belanja' saat ini: 88.000\n"
          ]
        }
      ]
    },
    {
      "cell_type": "code",
      "source": [
        "# 4. Fungsi\n",
        "print(\"\\n=== 4. Fungsi ===\")\n",
        "\n",
        "def hitung_persegi_panjang(panjang, lebar):\n",
        "    \"\"\"\n",
        "    Mengembalikan tuple (luas, keliling)\n",
        "    \"\"\"\n",
        "    luas = panjang * lebar\n",
        "    keliling = 2 * (panjang + lebar)\n",
        "    return luas, keliling\n",
        "\n",
        "# Contoh penggunaan dengan input dari user (gunakan angka, bisa desimal)\n",
        "try:\n",
        "    p = float(input(\"Masukkan panjang (contoh: 10): \"))\n",
        "    l = float(input(\"Masukkan lebar   (contoh: 5): \"))\n",
        "    luas, kel = hitung_persegi_panjang(p, l)\n",
        "    print(f\"Luas persegi panjang: {luas}\")\n",
        "    print(f\"Keliling persegi panjang: {kel}\")\n",
        "except ValueError:\n",
        "    print(\"Input tidak valid — masukkan angka.\")\n"
      ],
      "metadata": {
        "colab": {
          "base_uri": "https://localhost:8080/"
        },
        "id": "B81N0FbwR-M7",
        "outputId": "2c39e2f1-8d7e-4364-efa1-f3c7f7d94072"
      },
      "execution_count": 4,
      "outputs": [
        {
          "output_type": "stream",
          "name": "stdout",
          "text": [
            "\n",
            "=== 4. Fungsi ===\n",
            "Masukkan panjang (contoh: 10): 10\n",
            "Masukkan lebar   (contoh: 5): 5\n",
            "Luas persegi panjang: 50.0\n",
            "Keliling persegi panjang: 30.0\n"
          ]
        }
      ]
    },
    {
      "cell_type": "code",
      "source": [
        "# 5. Percabangan\n",
        "print(\"\\n=== 5. Percabangan ===\")\n",
        "\n",
        "def kategori_usia(usia):\n",
        "    if 0 <= usia <= 13:\n",
        "        return \"Anak\"\n",
        "    elif 14 <= usia <= 24:\n",
        "        return \"Remaja\"\n",
        "    elif 25 <= usia <= 49:\n",
        "        return \"Dewasa\"\n",
        "    elif usia >= 50:\n",
        "        return \"Lansia\"\n",
        "    else:\n",
        "        return \"Usia tidak valid\"\n",
        "\n",
        "# input dan eksekusi\n",
        "try:\n",
        "    usia = int(input(\"Masukkan usia (contoh: 17): \"))\n",
        "    print(\"Kategori:\", kategori_usia(usia))\n",
        "except ValueError:\n",
        "    print(\"Masukkan angka usia yang valid (contoh: 17).\")"
      ],
      "metadata": {
        "colab": {
          "base_uri": "https://localhost:8080/"
        },
        "id": "TOusKH64SFI7",
        "outputId": "3ecd600d-7f23-4fbd-8945-f0367637c790"
      },
      "execution_count": 5,
      "outputs": [
        {
          "output_type": "stream",
          "name": "stdout",
          "text": [
            "\n",
            "=== 5. Percabangan ===\n",
            "Masukkan usia (contoh: 17): 17\n",
            "Kategori: Remaja\n"
          ]
        }
      ]
    },
    {
      "cell_type": "code",
      "source": [
        "# (Opsional) Jalankan contoh otomatis tanpa input manual\n",
        "print(\"\\n=== Demo otomatis ===\")\n",
        "# demo fungsi persegi panjang\n",
        "luas, kel = hitung_persegi_panjang(8, 3)\n",
        "print(\"Contoh: luas 8x3 =\", luas, \", keliling =\", kel)\n",
        "\n",
        "# demo kategori usia\n",
        "for u in [5, 16, 30, 65, -1]:\n",
        "    print(\"Usia\", u, \"->\", kategori_usia(u))"
      ],
      "metadata": {
        "colab": {
          "base_uri": "https://localhost:8080/"
        },
        "id": "BOto3mAWSKDJ",
        "outputId": "dac48286-0a70-486f-bd12-3f07a77d0177"
      },
      "execution_count": 6,
      "outputs": [
        {
          "output_type": "stream",
          "name": "stdout",
          "text": [
            "\n",
            "=== Demo otomatis ===\n",
            "Contoh: luas 8x3 = 24 , keliling = 22\n",
            "Usia 5 -> Anak\n",
            "Usia 16 -> Remaja\n",
            "Usia 30 -> Dewasa\n",
            "Usia 65 -> Lansia\n",
            "Usia -1 -> Usia tidak valid\n"
          ]
        }
      ]
    }
  ]
}
{
  "nbformat": 4,
  "nbformat_minor": 0,
  "metadata": {
    "colab": {
      "provenance": []
    },
    "kernelspec": {
      "name": "python3",
      "display_name": "Python 3"
    },
    "language_info": {
      "name": "python"
    }
  },
  "cells": [
    {
      "cell_type": "code",
      "source": [
        "# cast from str to int\n",
        "str_numbers = \"456\"\n",
        "str_numbers_to_int = int(str_numbers)\n",
        "print(\"Before casting :\", str_numbers, \", the data type is\",\n",
        "type(str_numbers))\n",
        "print(\"After casting :\", str_numbers_to_int, \", the data type is\",\n",
        "type(str_numbers_to_int))"
      ],
      "metadata": {
        "colab": {
          "base_uri": "https://localhost:8080/"
        },
        "id": "vAUy0iubVtU9",
        "outputId": "23ecfd71-7217-445a-d9cf-29832e0e9cf8"
      },
      "execution_count": 12,
      "outputs": [
        {
          "output_type": "stream",
          "name": "stdout",
          "text": [
            "Before casting : 456 , the data type is <class 'str'>\n",
            "After casting : 456 , the data type is <class 'int'>\n"
          ]
        }
      ]
    },
    {
      "cell_type": "code",
      "source": [
        "# casting from int to str\n",
        "integer = 12345\n",
        "integer_to_str = str(integer)\n",
        "print(\"Before casting :\", integer, \", the data type is\", type(integer))\n",
        "print(\"After casting :\", integer_to_str, \", the data type is\",\n",
        "type(integer_to_str))"
      ],
      "metadata": {
        "colab": {
          "base_uri": "https://localhost:8080/"
        },
        "id": "X97uWupxaWEM",
        "outputId": "bfbb3013-81d6-4ff5-ecf5-bf81fbc48b08"
      },
      "execution_count": 13,
      "outputs": [
        {
          "output_type": "stream",
          "name": "stdout",
          "text": [
            "Before casting : 12345 , the data type is <class 'int'>\n",
            "After casting : 12345 , the data type is <class 'str'>\n"
          ]
        }
      ]
    },
    {
      "cell_type": "code",
      "source": [
        "# casting from int to bool\n",
        "num_int = 1\n",
        "num_bool = bool(num_int)\n",
        "print(num_bool, type(num_bool))\n",
        "num_int = 0\n",
        "\n",
        "num_bool = bool(num_int)\n",
        "print(num_bool, type(num_bool))"
      ],
      "metadata": {
        "colab": {
          "base_uri": "https://localhost:8080/"
        },
        "id": "oEJTdvsealHa",
        "outputId": "75ddd4bc-ed63-4ba1-a1ea-7ef73b9690ec"
      },
      "execution_count": 14,
      "outputs": [
        {
          "output_type": "stream",
          "name": "stdout",
          "text": [
            "True <class 'bool'>\n",
            "False <class 'bool'>\n"
          ]
        }
      ]
    },
    {
      "cell_type": "code",
      "source": [
        "# Equal to\n",
        "8 == 8\n",
        "# Not equal to\n",
        "8 != 9\n",
        "# Greater than\n",
        "8 > 9\n",
        "# Less than\n",
        "8 < 9\n",
        "# Less than\n",
        "8 <= 9\n",
        "# Less than\n",
        "9 >= 9"
      ],
      "metadata": {
        "colab": {
          "base_uri": "https://localhost:8080/"
        },
        "id": "-91mvp-Nan9i",
        "outputId": "d358627e-57dd-4382-8387-8824c0fe1e21"
      },
      "execution_count": 15,
      "outputs": [
        {
          "output_type": "execute_result",
          "data": {
            "text/plain": [
              "True"
            ]
          },
          "metadata": {},
          "execution_count": 15
        }
      ]
    },
    {
      "cell_type": "code",
      "source": [
        "a = True\n",
        "b = True\n",
        "print(a and b)\n",
        "print(a or b)\n",
        "print(not b)\n",
        "#logic\n",
        "5 > 6 and 6 < 7"
      ],
      "metadata": {
        "colab": {
          "base_uri": "https://localhost:8080/"
        },
        "id": "zautWuZSaqGQ",
        "outputId": "7cddb625-b441-47bf-8ca9-4ad62bb8ddfa"
      },
      "execution_count": 16,
      "outputs": [
        {
          "output_type": "stream",
          "name": "stdout",
          "text": [
            "True\n",
            "True\n",
            "False\n"
          ]
        },
        {
          "output_type": "execute_result",
          "data": {
            "text/plain": [
              "False"
            ]
          },
          "metadata": {},
          "execution_count": 16
        }
      ]
    },
    {
      "cell_type": "code",
      "source": [
        "e = 8\n",
        "f = 2\n",
        "# Summation\n",
        "sum = e + f\n",
        "print(f\"The sum of e with f is : {sum}\\n\")\n",
        "# Reduction\n",
        "red = e - f\n",
        "print(f\"The reduction of e with f is : {red}\\n\")\n",
        "# Multiplication\n",
        "multi = e * f\n",
        "print(f\"The multipication of e with f is : {multi}\\n\")\n",
        "# Division\n",
        "divi = e / f\n",
        "print(f\"The quotient of e with f is : {divi}\\n\")\n",
        "# Modulo\n",
        "mod = e % f\n",
        "print(f\"The remainder of e with f is : {mod}\\n\")\n",
        "# Power\n",
        "pow = e ** f\n",
        "print(f\"The power of e of f is : {pow}\\n\")"
      ],
      "metadata": {
        "colab": {
          "base_uri": "https://localhost:8080/"
        },
        "id": "JBoTCsV9auff",
        "outputId": "3b41bf80-0541-4835-d699-850c3077fceb"
      },
      "execution_count": 17,
      "outputs": [
        {
          "output_type": "stream",
          "name": "stdout",
          "text": [
            "The sum of e with f is : 10\n",
            "\n",
            "The reduction of e with f is : 6\n",
            "\n",
            "The multipication of e with f is : 16\n",
            "\n",
            "The quotient of e with f is : 4.0\n",
            "\n",
            "The remainder of e with f is : 0\n",
            "\n",
            "The power of e of f is : 64\n",
            "\n"
          ]
        }
      ]
    },
    {
      "cell_type": "code",
      "source": [
        "name = str(input(\"What is your name : \"))\n",
        "age = int(input(\"What's your age : \"))\n",
        "print(\"Name: \", name)\n",
        "print(\"Age: \", age)"
      ],
      "metadata": {
        "colab": {
          "base_uri": "https://localhost:8080/"
        },
        "id": "yfAExFvvazD3",
        "outputId": "f6d35ce8-609a-4024-87fc-aacf54564e59"
      },
      "execution_count": 18,
      "outputs": [
        {
          "output_type": "stream",
          "name": "stdout",
          "text": [
            "What is your name : fadi\n",
            "What's your age : 20\n",
            "Name:  fadi\n",
            "Age:  20\n"
          ]
        }
      ]
    },
    {
      "cell_type": "code",
      "source": [
        "# normal print\n",
        "print('Hi all! I am', name, 'age', age, 'years old')\n",
        "# format print\n",
        "print(f'Hi all! I am {name} age {age} years old')\n",
        "# format print\n",
        "print(f'Hi all! I am %s age %d years old'%(name, age))\n",
        "# fortmat output\n",
        "print(30*\"=\")\n",
        "print(\"Temperature Calculator Program\")\n",
        "print(30*\"=\")"
      ],
      "metadata": {
        "colab": {
          "base_uri": "https://localhost:8080/"
        },
        "id": "0Sp3MFLNa5cK",
        "outputId": "dfea034b-34e5-4fb3-9cdf-dd21527ad103"
      },
      "execution_count": 20,
      "outputs": [
        {
          "output_type": "stream",
          "name": "stdout",
          "text": [
            "Hi all! I am fadi age 20 years old\n",
            "Hi all! I am fadi age 20 years old\n",
            "Hi all! I am fadi age 20 years old\n",
            "==============================\n",
            "Temperature Calculator Program\n",
            "==============================\n"
          ]
        }
      ]
    },
    {
      "cell_type": "code",
      "source": [
        "try:\n",
        "  your_GPA = float(input(\"Enter your GPA: \"))\n",
        "  if 4.0 >= your_GPA >= 0.0:\n",
        "    if 4.0 >= your_GPA >= 3.80:\n",
        "      print(f\"Damn you've got a magna cumlaude with your {your_GPA} GPA\")\n",
        "    elif 3.50 <= your_GPA < 3.80:\n",
        "      print(f\"Cool!! You've got a cumlaude with your {your_GPA} GPA\")\n",
        "    elif 3.00 <= your_GPA < 3.50:\n",
        "      print(f\"You've got a stable GPA tho\")\n",
        "    elif your_GPA < 3.0:\n",
        "      print(f\"You need a stable GPA\")\n",
        "  else:\n",
        "    print(f\"Sorry, your GPA {your_GPA} is out of range and invalid\")\n",
        "except:\n",
        "  print(\"Please enter a valid GPA\")"
      ],
      "metadata": {
        "colab": {
          "base_uri": "https://localhost:8080/"
        },
        "id": "0Ix_gd8RbESz",
        "outputId": "19d96c3b-8485-455e-d5d7-be88182d1f77"
      },
      "execution_count": 24,
      "outputs": [
        {
          "output_type": "stream",
          "name": "stdout",
          "text": [
            "Enter your GPA: 3.5\n",
            "Cool!! You've got a cumlaude with your 3.5 GPA\n"
          ]
        }
      ]
    },
    {
      "cell_type": "code",
      "source": [
        "a = 3\n",
        "b = \"Even Numbers\" if a % 2 == 0 else \"Odd Numbers\"\n",
        "print(b)"
      ],
      "metadata": {
        "colab": {
          "base_uri": "https://localhost:8080/"
        },
        "id": "ocHHnwDcbOvf",
        "outputId": "91034758-1b97-404a-d275-e83792f51956"
      },
      "execution_count": 23,
      "outputs": [
        {
          "output_type": "stream",
          "name": "stdout",
          "text": [
            "Odd Numbers\n"
          ]
        }
      ]
    },
    {
      "cell_type": "code",
      "source": [
        "for i in range(5):\n",
        "  print(i)\n",
        "# For loop with range\n",
        "for i in range(5):\n",
        "  print(\"Data science is easy!\")\n",
        "print(50*\"=\")\n",
        "for i in range(1, 5, 2):\n",
        "  print(\"Data science is easy!\")"
      ],
      "metadata": {
        "colab": {
          "base_uri": "https://localhost:8080/"
        },
        "id": "FyfY79SfbW7R",
        "outputId": "eb043382-9acc-4ef2-da2e-ba75938574be"
      },
      "execution_count": 26,
      "outputs": [
        {
          "output_type": "stream",
          "name": "stdout",
          "text": [
            "0\n",
            "1\n",
            "2\n",
            "3\n",
            "4\n",
            "Data science is easy!\n",
            "Data science is easy!\n",
            "Data science is easy!\n",
            "Data science is easy!\n",
            "Data science is easy!\n",
            "==================================================\n",
            "Data science is easy!\n",
            "Data science is easy!\n"
          ]
        }
      ]
    },
    {
      "cell_type": "code",
      "source": [
        "word = \"I want to master data science\"\n",
        "for letter in word:\n",
        "  print(letter)"
      ],
      "metadata": {
        "colab": {
          "base_uri": "https://localhost:8080/"
        },
        "id": "d6Q7TSnYbc4-",
        "outputId": "c552cafe-1275-478f-db1f-5c55a8b5f37b"
      },
      "execution_count": 28,
      "outputs": [
        {
          "output_type": "stream",
          "name": "stdout",
          "text": [
            "I\n",
            " \n",
            "w\n",
            "a\n",
            "n\n",
            "t\n",
            " \n",
            "t\n",
            "o\n",
            " \n",
            "m\n",
            "a\n",
            "s\n",
            "t\n",
            "e\n",
            "r\n",
            " \n",
            "d\n",
            "a\n",
            "t\n",
            "a\n",
            " \n",
            "s\n",
            "c\n",
            "i\n",
            "e\n",
            "n\n",
            "c\n",
            "e\n"
          ]
        }
      ]
    },
    {
      "cell_type": "code",
      "source": [
        "# You can use it with enumerate function\n",
        "for m, n in enumerate(word):\n",
        "  print(f\"Index {m}. {n}\")"
      ],
      "metadata": {
        "colab": {
          "base_uri": "https://localhost:8080/"
        },
        "id": "G0KIfQqfbkDv",
        "outputId": "af8bad00-d076-4940-d13b-0e07f059246a"
      },
      "execution_count": 30,
      "outputs": [
        {
          "output_type": "stream",
          "name": "stdout",
          "text": [
            "Index 0. I\n",
            "Index 1.  \n",
            "Index 2. w\n",
            "Index 3. a\n",
            "Index 4. n\n",
            "Index 5. t\n",
            "Index 6.  \n",
            "Index 7. t\n",
            "Index 8. o\n",
            "Index 9.  \n",
            "Index 10. m\n",
            "Index 11. a\n",
            "Index 12. s\n",
            "Index 13. t\n",
            "Index 14. e\n",
            "Index 15. r\n",
            "Index 16.  \n",
            "Index 17. d\n",
            "Index 18. a\n",
            "Index 19. t\n",
            "Index 20. a\n",
            "Index 21.  \n",
            "Index 22. s\n",
            "Index 23. c\n",
            "Index 24. i\n",
            "Index 25. e\n",
            "Index 26. n\n",
            "Index 27. c\n",
            "Index 28. e\n"
          ]
        }
      ]
    },
    {
      "cell_type": "code",
      "source": [
        "# It can go backwards\n",
        "for i in range(5,1,-1):\n",
        "  print(\"I want big data's\")"
      ],
      "metadata": {
        "colab": {
          "base_uri": "https://localhost:8080/"
        },
        "id": "-0s5Z_isbo-d",
        "outputId": "ea6707bb-22e7-4411-9dc9-8f3aca4fce0d"
      },
      "execution_count": 32,
      "outputs": [
        {
          "output_type": "stream",
          "name": "stdout",
          "text": [
            "I want big data's\n",
            "I want big data's\n",
            "I want big data's\n",
            "I want big data's\n"
          ]
        }
      ]
    },
    {
      "cell_type": "code",
      "source": [
        "for i in range(5):\n",
        "  if i == 2:\n",
        "    continue # skip theis loop when i is equal to 2\n",
        "  if i == 4:\n",
        "    break # stops the loop when i is equal to 4\n",
        "  print(i)"
      ],
      "metadata": {
        "colab": {
          "base_uri": "https://localhost:8080/"
        },
        "id": "ubZDrieSbtC4",
        "outputId": "f039bf24-34b5-4693-9cb3-dbbd760a29c5"
      },
      "execution_count": 34,
      "outputs": [
        {
          "output_type": "stream",
          "name": "stdout",
          "text": [
            "0\n",
            "1\n",
            "3\n"
          ]
        }
      ]
    },
    {
      "cell_type": "code",
      "source": [
        "count = 0\n",
        "while count < 4:\n",
        "  print(\"Keep the spirits up interns!\")\n",
        "  count += 1"
      ],
      "metadata": {
        "colab": {
          "base_uri": "https://localhost:8080/"
        },
        "id": "usQOIoHtbyK-",
        "outputId": "d6caba5b-dd2a-4533-b499-f8a942c85d73"
      },
      "execution_count": 36,
      "outputs": [
        {
          "output_type": "stream",
          "name": "stdout",
          "text": [
            "Keep the spirits up interns!\n",
            "Keep the spirits up interns!\n",
            "Keep the spirits up interns!\n",
            "Keep the spirits up interns!\n"
          ]
        }
      ]
    }
  ]
}
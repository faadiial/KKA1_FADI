{
  "nbformat": 4,
  "nbformat_minor": 0,
  "metadata": {
    "colab": {
      "provenance": []
    },
    "kernelspec": {
      "name": "python3",
      "display_name": "Python 3"
    },
    "language_info": {
      "name": "python"
    }
  },
  "cells": [
    {
      "cell_type": "code",
      "source": [
        "### 1. Casting Data Types\n",
        "Kita bisa mengubah tipe data dari satu bentuk ke bentuk lain:\n",
        "- `str → int`\n",
        "- `int → str`\n",
        "- `int → bool`"
      ],
      "metadata": {
        "id": "vAUy0iubVtU9"
      },
      "execution_count": null,
      "outputs": []
    },
    {
      "cell_type": "code",
      "source": [
        "# str → int\n",
        "angka_str = \"123\"\n",
        "angka_int = int(angka_str)\n",
        "print(angka_int, type(angka_int))\n",
        "\n",
        "# int → str\n",
        "angka = 456\n",
        "angka_str2 = str(angka)\n",
        "print(angka_str2, type(angka_str2))\n",
        "\n",
        "# int → bool\n",
        "angka2 = 0\n",
        "angka_bool = bool(angka2)\n",
        "print(angka_bool, type(angka_bool))"
      ],
      "metadata": {
        "colab": {
          "base_uri": "https://localhost:8080/"
        },
        "id": "PRT_jcbCVuDP",
        "outputId": "de726ef8-d0b9-4a81-8e98-caf456f36672"
      },
      "execution_count": 3,
      "outputs": [
        {
          "output_type": "stream",
          "name": "stdout",
          "text": [
            "123 <class 'int'>\n",
            "456 <class 'str'>\n",
            "False <class 'bool'>\n"
          ]
        }
      ]
    },
    {
      "cell_type": "code",
      "source": [
        "### 2. Comparison Operators\n",
        "Operator perbandingan digunakan untuk membandingkan 2 nilai."
      ],
      "metadata": {
        "id": "WYh9JfucV2fR"
      },
      "execution_count": null,
      "outputs": []
    },
    {
      "cell_type": "code",
      "source": [
        "print(5 == 5)   # True\n",
        "print(5 != 3)   # True\n",
        "print(10 > 7)   # True\n",
        "print(4 < 2)    # False\n",
        "print(6 <= 6)   # True\n",
        "print(8 >= 10)  # False"
      ],
      "metadata": {
        "colab": {
          "base_uri": "https://localhost:8080/"
        },
        "id": "mVj9rVVyV4dK",
        "outputId": "8d8b110c-a467-49da-903f-99dabf084aa3"
      },
      "execution_count": 4,
      "outputs": [
        {
          "output_type": "stream",
          "name": "stdout",
          "text": [
            "True\n",
            "True\n",
            "True\n",
            "False\n",
            "True\n",
            "False\n"
          ]
        }
      ]
    },
    {
      "cell_type": "code",
      "source": [
        "### 3. Logical Operators\n",
        "Operator logika (`and`, `or`, `not`) digunakan untuk menggabungkan ekspresi boolean."
      ],
      "metadata": {
        "id": "1GugNYDmV61z"
      },
      "execution_count": null,
      "outputs": []
    },
    {
      "cell_type": "code",
      "source": [
        "print(True and False)  # False\n",
        "print(True or False)   # True\n",
        "print(not True)        # False\n",
        "\n",
        "print(5 > 6 and 6 < 7) # False"
      ],
      "metadata": {
        "colab": {
          "base_uri": "https://localhost:8080/"
        },
        "id": "mMlV32DVV8Ad",
        "outputId": "274107da-0090-4bec-b547-5224522493c7"
      },
      "execution_count": 5,
      "outputs": [
        {
          "output_type": "stream",
          "name": "stdout",
          "text": [
            "False\n",
            "True\n",
            "False\n",
            "False\n"
          ]
        }
      ]
    },
    {
      "cell_type": "code",
      "source": [
        "### 4. Arithmetic Operators\n",
        "Operator aritmatika digunakan untuk perhitungan matematika dasar."
      ],
      "metadata": {
        "id": "1nCtgRGrWATS"
      },
      "execution_count": null,
      "outputs": []
    },
    {
      "cell_type": "code",
      "source": [
        "a, b = 10, 3\n",
        "\n",
        "print(a + b)   # penjumlahan\n",
        "print(a - b)   # pengurangan\n",
        "print(a * b)   # perkalian\n",
        "print(a / b)   # pembagian\n",
        "print(a % b)   # modulus\n",
        "print(a ** b)  # pangkat"
      ],
      "metadata": {
        "colab": {
          "base_uri": "https://localhost:8080/"
        },
        "id": "3eDt1HjfWBi3",
        "outputId": "1a9b9707-20c1-46e8-d019-aa1409f2cd24"
      },
      "execution_count": 6,
      "outputs": [
        {
          "output_type": "stream",
          "name": "stdout",
          "text": [
            "13\n",
            "7\n",
            "30\n",
            "3.3333333333333335\n",
            "1\n",
            "1000\n"
          ]
        }
      ]
    },
    {
      "cell_type": "code",
      "source": [
        "### 5. Input & Output\n",
        "Mengambil input dari pengguna dan menampilkannya dengan beberapa cara."
      ],
      "metadata": {
        "id": "0DO1QehTWENc"
      },
      "execution_count": null,
      "outputs": []
    },
    {
      "cell_type": "code",
      "source": [
        "nama = input(\"Masukkan nama: \")\n",
        "umur = int(input(\"Masukkan umur: \"))\n",
        "\n",
        "print(\"Halo\", nama, \"umur kamu\", umur)                 # cara 1\n",
        "print(f\"Halo {nama}, umur kamu {umur}\")                # cara 2 (f-string)\n",
        "print(\"Halo {}, umur kamu {}\".format(nama, umur))      # cara 3 (format)"
      ],
      "metadata": {
        "colab": {
          "base_uri": "https://localhost:8080/"
        },
        "id": "Eku_5ZY0WGzJ",
        "outputId": "2df23396-1bb1-4acb-836d-02e98ff4d898"
      },
      "execution_count": 7,
      "outputs": [
        {
          "output_type": "stream",
          "name": "stdout",
          "text": [
            "Masukkan nama: Fadi\n",
            "Masukkan umur: 17\n",
            "Halo Fadi umur kamu 17\n",
            "Halo Fadi, umur kamu 17\n",
            "Halo Fadi, umur kamu 17\n"
          ]
        }
      ]
    },
    {
      "cell_type": "code",
      "source": [
        "### 6. Conditionals & Exception Handling\n",
        "- If-Else: untuk menentukan hasil berdasarkan nilai GPA.\n",
        "- Match-Case: untuk mencocokkan status code (Python 3.10+)."
      ],
      "metadata": {
        "id": "4CmOYLVvWMfw"
      },
      "execution_count": null,
      "outputs": []
    },
    {
      "cell_type": "code",
      "source": [
        "# if-else GPA\n",
        "gpa = float(input(\"Masukkan nilai GPA: \"))\n",
        "\n",
        "if gpa >= 3.5:\n",
        "    print(\"Cumlaude\")\n",
        "elif gpa >= 3.0:\n",
        "    print(\"Sangat Memuaskan\")\n",
        "else:\n",
        "    print(\"Perlu usaha lebih\")\n",
        "\n",
        "# match-case\n",
        "status_code = int(input(\"Masukkan status code: \"))\n",
        "\n",
        "match status_code:\n",
        "    case 200:\n",
        "        print(\"OK\")\n",
        "    case 404:\n",
        "        print(\"Not Found\")\n",
        "    case 500:\n",
        "        print(\"Server Error\")\n",
        "    case _:\n",
        "        print(\"Kode tidak dikenal\")"
      ],
      "metadata": {
        "colab": {
          "base_uri": "https://localhost:8080/"
        },
        "id": "k2T8_PmZWNTr",
        "outputId": "80e796d6-f55f-4a1d-e339-3b40b4cfc9e8"
      },
      "execution_count": 9,
      "outputs": [
        {
          "output_type": "stream",
          "name": "stdout",
          "text": [
            "Masukkan nilai GPA: 3\n",
            "Sangat Memuaskan\n",
            "Masukkan status code: 200\n",
            "OK\n"
          ]
        }
      ]
    },
    {
      "cell_type": "code",
      "source": [
        "### 7. Ternary Operator\n",
        "Digunakan untuk membuat if-else dalam satu baris."
      ],
      "metadata": {
        "id": "fF1qNH-zWbZ8"
      },
      "execution_count": null,
      "outputs": []
    },
    {
      "cell_type": "code",
      "source": [
        "angka = int(input(\"Masukkan angka: \"))\n",
        "hasil = \"Genap\" if angka % 2 == 0 else \"Ganjil\"\n",
        "print(hasil)"
      ],
      "metadata": {
        "colab": {
          "base_uri": "https://localhost:8080/"
        },
        "id": "6HyCasSuWcY2",
        "outputId": "0c6b6ec8-3381-4618-aaf5-adba06c1f24e"
      },
      "execution_count": 10,
      "outputs": [
        {
          "output_type": "stream",
          "name": "stdout",
          "text": [
            "Masukkan angka: 10\n",
            "Genap\n"
          ]
        }
      ]
    },
    {
      "cell_type": "code",
      "source": [
        "### 8. Loops\n",
        "Perulangan menggunakan for dan while."
      ],
      "metadata": {
        "id": "Dw-VCdmYWhp4"
      },
      "execution_count": null,
      "outputs": []
    },
    {
      "cell_type": "code",
      "source": [
        "# for loop range\n",
        "for i in range(5):\n",
        "    print(i)\n",
        "\n",
        "# for loop dengan step\n",
        "for i in range(0, 10, 2):\n",
        "    print(i)\n",
        "\n",
        "# loop string\n",
        "for huruf in \"Python\":\n",
        "    print(huruf)\n",
        "\n",
        "# loop dengan enumerate\n",
        "for idx, huruf in enumerate(\"Hello\"):\n",
        "    print(idx, huruf)\n",
        "\n",
        "# loop backwards\n",
        "for i in range(5, 0, -1):\n",
        "    print(i)\n",
        "\n",
        "# continue dan break\n",
        "for i in range(10):\n",
        "    if i == 3:\n",
        "        continue\n",
        "    if i == 7:\n",
        "        break\n",
        "    print(i)\n",
        "\n",
        "# while loop\n",
        "x = 5\n",
        "while x > 0:\n",
        "    print(\"Countdown:\", x)\n",
        "    x -= 1"
      ],
      "metadata": {
        "colab": {
          "base_uri": "https://localhost:8080/"
        },
        "id": "M9o7uLHHWih2",
        "outputId": "adb513af-054f-43a7-c1a2-2508e9de72bc"
      },
      "execution_count": 11,
      "outputs": [
        {
          "output_type": "stream",
          "name": "stdout",
          "text": [
            "0\n",
            "1\n",
            "2\n",
            "3\n",
            "4\n",
            "0\n",
            "2\n",
            "4\n",
            "6\n",
            "8\n",
            "P\n",
            "y\n",
            "t\n",
            "h\n",
            "o\n",
            "n\n",
            "0 H\n",
            "1 e\n",
            "2 l\n",
            "3 l\n",
            "4 o\n",
            "5\n",
            "4\n",
            "3\n",
            "2\n",
            "1\n",
            "0\n",
            "1\n",
            "2\n",
            "4\n",
            "5\n",
            "6\n",
            "Countdown: 5\n",
            "Countdown: 4\n",
            "Countdown: 3\n",
            "Countdown: 2\n",
            "Countdown: 1\n"
          ]
        }
      ]
    }
  ]
}